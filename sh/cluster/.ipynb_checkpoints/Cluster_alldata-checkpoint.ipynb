{
 "cells": [
  {
   "cell_type": "markdown",
   "metadata": {},
   "source": [
    "# word embedding method"
   ]
  },
  {
   "cell_type": "code",
   "execution_count": 144,
   "metadata": {},
   "outputs": [],
   "source": [
    "from konlpy.tag import Twitter\n",
    "import math\n",
    "import numpy as np\n",
    "\n",
    "def load_file(filesrc):\n",
    "        f = open(filesrc, 'rt', encoding='utf-16')\n",
    "#         name = \"\"\n",
    "        talk = []\n",
    "#         speak = {}\n",
    "        not_person = ['al', 'ot']\n",
    "        talk_all = []\n",
    "        while(True):\n",
    "            data = f.readline() \n",
    "            if not data: break\n",
    "    \n",
    "            if(\"<u who=\" in data or \"<s n=\" in data):\n",
    "                # 발화자 구분\n",
    "#                 if \"who\" in data:\n",
    "#                     name = data[8:10]\n",
    "#                     if name in not_person:\n",
    "#                         continue\n",
    "#                     if not (name in speak):\n",
    "#                        speak[name] = [] \n",
    "    \n",
    "                # 대화 추출\n",
    "                temp = data.split(\">\")\n",
    "                s = \"\"\n",
    "                for v in temp:\n",
    "                    idx = v.find('<')\n",
    "                    if idx < 2: continue\n",
    "#                     speak[name].append(v[:idx])\n",
    "                    talk_all.append(v[:idx])\n",
    "    \n",
    "        return _,talk_all\n",
    "\n",
    "def words_join(words,doc_index):\n",
    "    word_idx = []\n",
    "    doc_count = 0\n",
    "    for index,lines in enumerate(words):\n",
    "        if len(doc_index) > doc_count and index >= doc_index[doc_count]:\n",
    "            doc_count += 1\n",
    "        word_idx += [[v,index,doc_count] for v in lines.split(' ')]\n",
    "\n",
    "    return np.array(word_idx)\n",
    "\n",
    "def postaging(docs):\n",
    "    twitter=Twitter()\n",
    "    want = ['Exclamation','Adverb','Noun','Alpha','Verb','Adjective']\n",
    "    stopword = ['어어','넷','만','것','타','최','태','개','홈','선','끼','각','번','하다','음','화', '이다',' ','다','더','포','제','저','여기','고','씬','첨','난','면','으루','네']\n",
    "    pos = []\n",
    "#     pos = \"\"\n",
    "\n",
    "    for lines in docs:\n",
    "        strs=\"\"\n",
    "        for t in twitter.pos(lines, norm=True, stem=True):\n",
    "#             if (t[1] in want) and (t[0] not in stopword):\n",
    "            if (t[0] not in stopword) and len(t[0]) > 1:\n",
    "#                 pos = pos + \" \" + t[0]\n",
    "                pos.append(t[0])\n",
    "#                 strs = strs + \" \" + t[0]\n",
    "#         if strs[1:]:\n",
    "#             pos.append(strs[1:])\n",
    "\n",
    "    return pos\n",
    "\n",
    "\n",
    "\n",
    "def words_join(,words,doc_index):\n",
    "        word_idx = []\n",
    "        doc_count = 0\n",
    "        for index,lines in enumerate(words):\n",
    "            if len(doc_index) > doc_count and index >= doc_index[doc_count]:\n",
    "                doc_count += 1\n",
    "            word_idx += [[v,index,doc_count] for v in lines.split(' ')]\n",
    "            \n",
    "        return np.array(word_idx)"
   ]
  },
  {
   "cell_type": "markdown",
   "metadata": {},
   "source": [
    "# 그냥 많은 데이터로 테스트"
   ]
  },
  {
   "cell_type": "code",
   "execution_count": 80,
   "metadata": {},
   "outputs": [],
   "source": [
    "load_list = [\"7CM00055.txt\",\"4CM00094.txt\",\"6CM00079.txt\",\"6CM00080.txt\",\"6CM00082.txt\",\"6CM00083.txt\",\"6CM00088.txt\",\"6CM00090.txt\",\"6CM00092.txt\",\"6CM00093.txt\",\"6CM00094.txt\",\"6CM00095.txt\"]\n",
    "\n",
    "talk_list = []\n",
    "speak_list = []\n",
    "doc_index = []\n",
    "\n",
    "#load는 리스트 형태  , 한번에 여러문서도가능하도록 --> 나중에는 db형식으로 교체 필요\n",
    "for path in load_list:\n",
    "    _,talks = load_file(path)\n",
    "    talk_list= talk_list + talks\n",
    "    doc_index.append(len(talk_list)-1)\n",
    "\n",
    "\n",
    "# 포스테깅 및 stopword 처리 \n",
    "word_list = postaging(talk_list)\n"
   ]
  },
  {
   "cell_type": "code",
   "execution_count": 81,
   "metadata": {},
   "outputs": [
    {
     "name": "stdout",
     "output_type": "stream",
     "text": [
      "['회의', '그냥', '아우', '이상하다', '돌리다', '발언', '발언', '사람', '사람', '가뜩이나', '산만', '진짜', '기능', '좋다', '잡고', '잡고', '가까이', '앉다', '오늘', '오늘']\n"
     ]
    }
   ],
   "source": [
    "print(word_list[:20])"
   ]
  },
  {
   "cell_type": "code",
   "execution_count": 89,
   "metadata": {},
   "outputs": [],
   "source": [
    "#트레이닝\n",
    "from gensim.models import Word2Vec\n",
    "embedding_model = Word2Vec([word_list], size=50, window = 5, min_count=10, workers=4, iter=1000, sg=1)"
   ]
  },
  {
   "cell_type": "code",
   "execution_count": 122,
   "metadata": {},
   "outputs": [],
   "source": [
    "#모델저장 \n",
    "from gensim.test.utils import common_texts, get_tmpfile\n",
    "embedding_model.save(\"word2vec.model\")"
   ]
  },
  {
   "cell_type": "code",
   "execution_count": 140,
   "metadata": {},
   "outputs": [],
   "source": [
    "#모델 불러오기 및 벡터 가져오기\n",
    "from gensim.models import KeyedVectors\n",
    "model = Word2Vec.load(\"word2vec.model\")\n",
    "word_vectors = model.wv\n",
    "del model"
   ]
  },
  {
   "cell_type": "markdown",
   "metadata": {},
   "source": [
    "# 클러스터링 작업 하기"
   ]
  },
  {
   "cell_type": "code",
   "execution_count": 166,
   "metadata": {},
   "outputs": [
    {
     "name": "stdout",
     "output_type": "stream",
     "text": [
      "doc_index :  [842, 4012, 4544]\n",
      "10799\n",
      "[['생기' '10769' '3']\n",
      " ['그거' '10770' '3']\n",
      " ['대하다' '10771' '3']\n",
      " ['얘기' '10772' '3']\n",
      " ['사람' '10773' '3']\n",
      " ['진짜' '10774' '3']\n",
      " ['맞다' '10775' '3']\n",
      " ['끄다' '10776' '3']\n",
      " ['쪼금' '10777' '3']\n",
      " ['그렇다' '10778' '3']\n",
      " ['::.' '10779' '3']\n",
      " ['무엇' '10780' '3']\n",
      " ['운동' '10781' '3']\n",
      " ['이고' '10782' '3']\n",
      " ['::' '10783' '3']\n",
      " ['누구' '10784' '3']\n",
      " ['운동' '10785' '3']\n",
      " ['인가' '10786' '3']\n",
      " ['운동' '10787' '3']\n",
      " ['참여' '10788' '3']\n",
      " ['사람' '10789' '3']\n",
      " ['한번' '10790' '3']\n",
      " ['돌이' '10791' '3']\n",
      " ['생각' '10792' '3']\n",
      " ['필요' '10793' '3']\n",
      " ['있다' '10794' '3']\n",
      " ['생각' '10795' '3']\n",
      " ['필요' '10796' '3']\n",
      " ['있다' '10797' '3']\n",
      " ['같다' '10798' '3']]\n"
     ]
    }
   ],
   "source": [
    "#비교할 데이터 로드\n",
    "load_list = [\"6CM00079-학교.txt\",\"6CM00080-군대.txt\",\"6CM00082-정치.txt\"]\n",
    "talk_list = []\n",
    "speak_list = []\n",
    "doc_index = []\n",
    "\n",
    "#load는 리스트 형태  , 한번에 여러문서도가능하도록 --> 나중에는 db형식으로 교체 필요\n",
    "for path in load_list:\n",
    "    _,talks = load_file(path)\n",
    "    talk_list= talk_list + talks\n",
    "    doc_index.append(len(talk_list)-1)\n",
    "\n",
    "print(\"doc_index : \",doc_index)\n",
    "# 포스테깅 및 stopword 처리 \n",
    "word_list = postaging(talk_list)\n",
    "print(len(word_list))\n",
    "words = words_join(word_list,doc_index)\n",
    "\n",
    "print(words[-30:])"
   ]
  },
  {
   "cell_type": "code",
   "execution_count": 153,
   "metadata": {},
   "outputs": [
    {
     "name": "stdout",
     "output_type": "stream",
     "text": [
      "340\n",
      "10799\n"
     ]
    }
   ],
   "source": [
    "term = 30\n",
    "doc_size = 600\n",
    "cluster_word = []\n",
    "vector_size = 50\n",
    "\n",
    "cluster_word = [words[i:i+doc_size] for i in  range(0,len(words),term) if i+doc_size < len(words)]\n",
    "# print(\"cluster_word[0] : \",cluster_word[0])\n",
    "print(len(cluster_word))\n",
    "print(len(words))\n",
    "cluster_word_vector = []\n",
    "\n",
    "for words_list in cluster_word:\n",
    "    sum = np.zeros(vector_size,dtype=float)\n",
    "#     print(words_list)\n",
    "    for v in [word_vectors[vector[0]] for vector in words_list if vector[0] in word_vectors ]:\n",
    "        sum = np.add(sum,v)\n",
    "    cluster_word_vector.append(sum)"
   ]
  },
  {
   "cell_type": "code",
   "execution_count": 155,
   "metadata": {
    "collapsed": true
   },
   "outputs": [],
   "source": [
    "from sklearn.metrics.pairwise import cosine_similarity\n",
    "cluster_word_similarity =  cosine_similarity(cluster_word_vector,cluster_word_vector)\n",
    "test = [v[i+1:i+2] for i,v in enumerate(cluster_word_similarity)]"
   ]
  },
  {
   "cell_type": "code",
   "execution_count": 157,
   "metadata": {},
   "outputs": [
    {
     "name": "stdout",
     "output_type": "stream",
     "text": [
      "(340, 3)\n",
      "<class 'numpy.ndarray'>\n"
     ]
    },
    {
     "data": {
      "image/png": "[encoded data removed]",
      "text/plain": [
       "<matplotlib.figure.Figure at 0x27a103c8518>"
      ]
     },
     "metadata": {},
     "output_type": "display_data"
    }
   ],
   "source": [
    "import matplotlib\n",
    "import matplotlib.pyplot as plt\n",
    "# %matplotlib inlince\n",
    "words_chart = [words[i] for i in  range(0,len(words),term) if i+doc_size < len(words)]\n",
    "words_chart = np.array(words_chart)\n",
    "print(words_chart.shape)\n",
    "print(type(words_chart[1]))\n",
    "# print(words_chart[:])\n",
    "flg = plt.figure()\n",
    "x1 = flg.add_subplot(2, 1, 1)\n",
    "\n",
    "x1.plot(test[:-1],color='blue')\n",
    "x1.grid(True)\n",
    "\n",
    "x2 = flg.add_subplot(2, 1, 2)\n",
    "x2.plot(words_chart[:,[2]])\n",
    "# plt.figure(figsize=(30, 20))\n",
    "plt.show()"
   ]
  },
  {
   "cell_type": "markdown",
   "metadata": {},
   "source": [
    "# 군집수 분석"
   ]
  },
  {
   "cell_type": "markdown",
   "metadata": {},
   "source": [
    "### 클러스터링1"
   ]
  },
  {
   "cell_type": "code",
   "execution_count": 159,
   "metadata": {},
   "outputs": [
    {
     "data": {
      "text/plain": [
       "([53, 102, 187, 207], [1.0, 1.1428571428571428, 0.8571428571428571, 2.0])"
      ]
     },
     "execution_count": 159,
     "metadata": {},
     "output_type": "execute_result"
    }
   ],
   "source": [
    "def cluster_boundary1(similarity,repeat,min,cluster_value,term):\n",
    "    index=[]\n",
    "    sim = similarity[:]\n",
    "    #repeat 만큼 반복해서 걸러내기\n",
    "    for rpt in range(repeat):\n",
    "        sim.sort()\n",
    "        # min%만큼 낮은값만 뽑아내는 작업\n",
    "        index = [similarity.index(i) for i in sim[:int(len(sim)*(min/100))]]\n",
    "        sim = [similarity[i] for i in index]\n",
    "    \n",
    "    index.sort()\n",
    "    # 가까이있는값은 하나로 묶기 (cluster_value)\n",
    "    indexing = [v  for i,v in enumerate(index) if (v-index[i-1])/len(similarity) > cluster_value]\n",
    "#     print(index)\n",
    "#     print(indexing)\n",
    "#     print(len(similarity))\n",
    "    \n",
    "    #노이즈로 생각되는값 뽑기\n",
    "\n",
    "    # 노이즈 체크 공식 (suhyuns-sim) 전체길이  * min 퍼센트 ^ repeat 수\n",
    "    # term 으로 체크시 뒤에 노이즈범위 값안에 들어가는만큼 노이즈 count 증가 이걸 noise_check로 비율 넣기\n",
    "    noise_check = int(math.sqrt(len(similarity)*pow((min/100),2)))\n",
    "#     print(noise_check)\n",
    "#     print(index)\n",
    "    noise_count = []\n",
    "    for i in indexing:\n",
    "        check = 0\n",
    "        idx = index.index(i)\n",
    "#         print(idx)\n",
    "        while(True):\n",
    "            if idx+check >= len(index)-1 or index[idx+check+1] - index[idx] > term:\n",
    "                break\n",
    "            check +=1\n",
    "        noise_count.append(check/noise_check)\n",
    "    \n",
    "    return indexing,noise_count\n",
    "\n",
    "#0에 가까울수록 클러스터 포인트 1넘으면 100% 아님으로보면될듯\n",
    "\n",
    "cluster_boundary1(test[:-1],2,40,.04,term)"
   ]
  },
  {
   "cell_type": "markdown",
   "metadata": {},
   "source": [
    "### 클러스터링2 최대최소 비율"
   ]
  },
  {
   "cell_type": "code",
   "execution_count": 160,
   "metadata": {},
   "outputs": [
    {
     "data": {
      "text/plain": [
       "([23], [0.0])"
      ]
     },
     "execution_count": 160,
     "metadata": {},
     "output_type": "execute_result"
    }
   ],
   "source": [
    "def cluster_boundary2(similarity,repeat,min_rate,cluster_value,term):\n",
    "    index=[]\n",
    "    sim = similarity[:]\n",
    "    #repeat 만큼 반복해서 걸러내기\n",
    "    for rpt in range(repeat):\n",
    "        #최대최소 안뽑혀서 일단 이걸로 ';;\n",
    "#         sim.sort()\n",
    "        min_value = min(sim)\n",
    "        max_value = max(sim)\n",
    "        #  max - (max-min)(1-min_ratio/100)\n",
    "        compare_rate = max_value - (max_value-min_value)*(1-min_rate/100)\n",
    "#         print(\"min :\",min_value)\n",
    "#         print(\"max :\",max_value)\n",
    "#         print(\"compare_rate :\",compare_rate)\n",
    "        \n",
    "        # min%만큼 낮은값만 뽑아내는 작업\n",
    "        index = [similarity.index(i) for i in sim if i< compare_rate]\n",
    "        sim = [similarity[i] for i in index]\n",
    "    \n",
    "    index.sort()\n",
    "    # 가까이있는값은 하나로 묶기 (cluster_value)\n",
    "    indexing = [v  for i,v in enumerate(index) if (v-index[i-1])/len(similarity) > cluster_value or i+1 == len(index)]\n",
    "\n",
    "    #노이즈로 생각되는값 뽑기\n",
    "    # 노이즈 체크 공식 (suhyuns-sim) 전체길이  * min 퍼센트 ^ repeat 수\n",
    "    # term 으로 체크시 뒤에 노이즈범위 값안에 들어가는만큼 노이즈 count 증가 이걸 noise_check로 비율 넣기\n",
    "    \n",
    "    noise_check = math.sqrt(len(similarity)*pow((min_rate/100),2))\n",
    "#     print(\"noise_check : \",noise_check)\n",
    "    noise_count = []\n",
    "#     print(\"index : \",index)\n",
    "#     print(\"indexing :\",indexing)\n",
    "    for i in indexing:\n",
    "        check = 0\n",
    "        idx = index.index(i)\n",
    "#         print(idx)\n",
    "        while(True):\n",
    "            if idx+check >= len(index)-1 or index[idx+check+1] - index[idx] > term:\n",
    "                break\n",
    "            check +=1\n",
    "        noise_count.append(check/noise_check)\n",
    "    \n",
    "    return indexing,noise_count\n",
    "\n",
    "#0에 가까울수록 클러스터 포인트 1넘으면 100% 아님으로보면될듯\n",
    "\n",
    "cluster_boundary2(test[:-1],2,40,.04,term)"
   ]
  }
 ],
 "metadata": {
  "kernelspec": {
   "display_name": "Python 3",
   "language": "python",
   "name": "python3"
  },
  "language_info": {
   "codemirror_mode": {
    "name": "ipython",
    "version": 3
   },
   "file_extension": ".py",
   "mimetype": "text/x-python",
   "name": "python",
   "nbconvert_exporter": "python",
   "pygments_lexer": "ipython3",
   "version": "3.6.3"
  }
 },
 "nbformat": 4,
 "nbformat_minor": 2
}

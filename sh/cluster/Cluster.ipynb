{
 "cells": [
  {
   "cell_type": "markdown",
   "metadata": {},
   "source": [
    "# word embedding method"
   ]
  },
  {
   "cell_type": "code",
   "execution_count": 1,
   "metadata": {
    "collapsed": true
   },
   "outputs": [],
   "source": [
    "from konlpy.tag import Twitter\n",
    "import math\n",
    "import numpy as np\n",
    "\n",
    "def load_file(filesrc):\n",
    "        f = open(filesrc, 'rt', encoding='utf-16')\n",
    "#         name = \"\"\n",
    "        talk = []\n",
    "#         speak = {}\n",
    "        not_person = ['al', 'ot']\n",
    "        talk_all = []\n",
    "        while(True):\n",
    "            data = f.readline() \n",
    "            if not data: break\n",
    "    \n",
    "            if(\"<u who=\" in data or \"<s n=\" in data):\n",
    "                # 발화자 구분\n",
    "#                 if \"who\" in data:\n",
    "#                     name = data[8:10]\n",
    "#                     if name in not_person:\n",
    "#                         continue\n",
    "#                     if not (name in speak):\n",
    "#                        speak[name] = [] \n",
    "    \n",
    "                # 대화 추출\n",
    "                temp = data.split(\">\")\n",
    "                s = \"\"\n",
    "                for v in temp:\n",
    "                    idx = v.find('<')\n",
    "                    if idx < 2: continue\n",
    "#                     speak[name].append(v[:idx])\n",
    "                    talk_all.append(v[:idx])\n",
    "    \n",
    "        return _,talk_all\n",
    "\n",
    "def words_join(words,doc_index):\n",
    "    word_idx = []\n",
    "    doc_count = 0\n",
    "    for index,lines in enumerate(words):\n",
    "        if len(doc_index) > doc_count and index >= doc_index[doc_count]:\n",
    "            doc_count += 1\n",
    "        word_idx += [[v,index,doc_count] for v in lines.split(' ')]\n",
    "\n",
    "    return np.array(word_idx)\n",
    "\n",
    "def postaging(docs):\n",
    "    twitter=Twitter()\n",
    "    want = ['Exclamation','Adverb','Noun','Alpha','Verb','Adjective']\n",
    "    stopword = ['어어','넷','만','것','타','최','태','개','홈','선','끼','각','번','하다','음','화', '이다',' ','다','더','포','제','저','여기','고','씬','첨','난','면','으루','네']\n",
    "    pos = []\n",
    "#     pos = \"\"\n",
    "\n",
    "    for lines in docs:\n",
    "        strs=\"\"\n",
    "        for t in twitter.pos(lines, norm=True, stem=True):\n",
    "            if (t[1] in want) and (t[0] not in stopword) and(len(t[0]) > 1):\n",
    "#             if (t[0] not in stopword) and len(t[0]) > 1:\n",
    "#                 pos = pos + \" \" + t[0]\n",
    "                pos.append(t[0])\n",
    "#                 strs = strs + \" \" + t[0]\n",
    "#         if strs[1:]:\n",
    "#             pos.append(strs[1:])\n",
    "\n",
    "    return pos\n",
    "\n",
    "\n",
    "\n",
    "def words_join(words,doc_index):\n",
    "        word_idx = []\n",
    "        doc_count = 0\n",
    "        for index,lines in enumerate(words):\n",
    "            if len(doc_index) > doc_count and index >= doc_index[doc_count]:\n",
    "                doc_count += 1\n",
    "            word_idx += [[v,index,doc_count] for v in lines.split(' ')]\n",
    "            \n",
    "        return np.array(word_idx)"
   ]
  },
  {
   "cell_type": "markdown",
   "metadata": {},
   "source": [
    "# 그냥 많은 데이터로 테스트"
   ]
  },
  {
   "cell_type": "code",
   "execution_count": 127,
   "metadata": {
    "collapsed": true
   },
   "outputs": [],
   "source": [
    "# load_list = [\"7CM00055.txt\",\"4CM00094.txt\",\"6CM00079.txt\",\"6CM00080.txt\",\"6CM00082.txt\",\"6CM00083.txt\",\"6CM00088.txt\",\"6CM00090.txt\",\"6CM00092.txt\",\"6CM00093.txt\",\"6CM00094.txt\",\"6CM00095.txt\"]\n",
    "load_list =  [\"6CM00082-정치.txt\",\"6CM00096-외국어시험.txt\"]\n",
    "talk_list = []\n",
    "speak_list = []\n",
    "doc_index = []\n",
    "word_list = []\n",
    "\n",
    "#load는 리스트 형태  , 한번에 여러문서도가능하도록 --> 나중에는 db형식으로 교체 필요\n",
    "for path in load_list:\n",
    "    _,talks = load_file(path)\n",
    "    talk_list= talk_list + talks\n",
    "    doc_index.append(len(talk_list)-1)\n",
    "    # 포스테깅 및 stopword 처리 \n",
    "    word_list.append(postaging(talk_list))\n"
   ]
  },
  {
   "cell_type": "code",
   "execution_count": 128,
   "metadata": {},
   "outputs": [],
   "source": [
    "from gensim.models import Word2Vec\n",
    "embedding_model = Word2Vec(word_list, size=50, window = 5, min_count=1, workers=4, iter=100, sg=1)"
   ]
  },
  {
   "cell_type": "code",
   "execution_count": 129,
   "metadata": {
    "collapsed": true
   },
   "outputs": [],
   "source": [
    "embedding_model.save(\"word2vec.model\")"
   ]
  },
  {
   "cell_type": "code",
   "execution_count": 148,
   "metadata": {
    "collapsed": true
   },
   "outputs": [],
   "source": [
    "# from gensim.test.utils import common_texts\n",
    "# from gensim.models.doc2vec import Doc2Vec, TaggedDocument\n",
    "# documents = [TaggedDocument(doc, [i]) for i, doc in enumerate(word_list)]\n",
    "# model = Doc2Vec(documents, vector_size=5, window=2, min_count=1, workers=4)"
   ]
  },
  {
   "cell_type": "code",
   "execution_count": 130,
   "metadata": {},
   "outputs": [],
   "source": [
    "model = Word2Vec.load(\"word2vec.model\")\n",
    "# key is word list \n",
    "# model.wv.vocab    "
   ]
  },
  {
   "cell_type": "markdown",
   "metadata": {},
   "source": [
    "# 클러스터링 임베딩 작업"
   ]
  },
  {
   "cell_type": "code",
   "execution_count": 131,
   "metadata": {},
   "outputs": [
    {
     "name": "stdout",
     "output_type": "stream",
     "text": [
      "doc_index :  [531, 1397]\n",
      "3232\n"
     ]
    }
   ],
   "source": [
    "#비교할 데이터 로드\n",
    "load_list =  [\"6CM00082-정치.txt\",\"6CM00096-외국어시험.txt\"]\n",
    "talk_list = []\n",
    "speak_list = []\n",
    "doc_index = []\n",
    "\n",
    "#load는 리스트 형태  , 한번에 여러문서도가능하도록 --> 나중에는 db형식으로 교체 필요\n",
    "for path in load_list:\n",
    "    _,talks = load_file(path)\n",
    "    talk_list= talk_list + talks\n",
    "    doc_index.append(len(talk_list)-1)\n",
    "\n",
    "print(\"doc_index : \",doc_index)\n",
    "# 포스테깅 및 stopword 처리 \n",
    "word_list = postaging(talk_list)\n",
    "print(len(word_list))\n",
    "words = words_join(word_list,doc_index)\n",
    "\n",
    "# print(words[:29])"
   ]
  },
  {
   "cell_type": "code",
   "execution_count": 142,
   "metadata": {
    "scrolled": true
   },
   "outputs": [],
   "source": [
    "term = 30\n",
    "doc_size = 200\n",
    "cluster_word = []\n",
    "vector_size = 50\n",
    "cluster_word_vector = []\n",
    "# doc_size 만큼 join\n",
    "cluster_word_vector = [np.array(words[index:index+doc_size])[:,[0]]  for index in range(0,len(words),term) if index + doc_size < len(words)]\n",
    "# word  -> vector \n",
    "cluster_word_vector = [[model.wv[word[0]] for word in docs if word[0] in model.wv.vocab] for docs in cluster_word_vector]\n",
    "# fatten use when using pca\n",
    "# cluster_word_vector = [np.array(words).flatten() for words in cluster_word_vector]"
   ]
  },
  {
   "cell_type": "markdown",
   "metadata": {},
   "source": [
    "## Dimension reduction 1- pca (not use)"
   ]
  },
  {
   "cell_type": "code",
   "execution_count": 68,
   "metadata": {},
   "outputs": [],
   "source": [
    "from sklearn import cluster\n",
    "from mpl_toolkits.mplot3d import Axes3D\n",
    "import matplotlib.pyplot as plt\n",
    "from sklearn.decomposition import IncrementalPCA"
   ]
  },
  {
   "cell_type": "code",
   "execution_count": 138,
   "metadata": {
    "collapsed": true
   },
   "outputs": [
    {
     "name": "stderr",
     "output_type": "stream",
     "text": [
      "E:\\conda\\lib\\site-packages\\sklearn\\decomposition\\incremental_pca.py:261: RuntimeWarning: Mean of empty slice.\n",
      "  explained_variance[self.n_components_:].mean()\n",
      "C:\\Users\\suhyun\\AppData\\Roaming\\Python\\Python36\\site-packages\\numpy\\core\\_methods.py:80: RuntimeWarning: invalid value encountered in double_scalars\n",
      "  ret = ret.dtype.type(ret / rcount)\n"
     ]
    },
    {
     "ename": "ValueError",
     "evalue": "Number of input features has changed from 3 to 99 between calls to partial_fit! Try setting n_components to a fixed value.",
     "output_type": "error",
     "traceback": [
      "\u001b[1;31m---------------------------------------------------------------------------\u001b[0m",
      "\u001b[1;31mValueError\u001b[0m                                Traceback (most recent call last)",
      "\u001b[1;32m<ipython-input-138-ddbdb4e4744d>\u001b[0m in \u001b[0;36m<module>\u001b[1;34m()\u001b[0m\n\u001b[0;32m      1\u001b[0m \u001b[0mipca\u001b[0m \u001b[1;33m=\u001b[0m \u001b[0mIncrementalPCA\u001b[0m\u001b[1;33m(\u001b[0m\u001b[0mbatch_size\u001b[0m\u001b[1;33m=\u001b[0m\u001b[1;36m3\u001b[0m\u001b[1;33m,\u001b[0m \u001b[0mcopy\u001b[0m\u001b[1;33m=\u001b[0m\u001b[1;32mTrue\u001b[0m\u001b[1;33m,\u001b[0m \u001b[0mn_components\u001b[0m\u001b[1;33m=\u001b[0m\u001b[1;36m99\u001b[0m\u001b[1;33m,\u001b[0m \u001b[0mwhiten\u001b[0m\u001b[1;33m=\u001b[0m\u001b[1;32mFalse\u001b[0m\u001b[1;33m)\u001b[0m\u001b[1;33m\u001b[0m\u001b[0m\n\u001b[1;32m----> 2\u001b[1;33m \u001b[0mpca_vector\u001b[0m \u001b[1;33m=\u001b[0m \u001b[0mipca\u001b[0m\u001b[1;33m.\u001b[0m\u001b[0mfit_transform\u001b[0m\u001b[1;33m(\u001b[0m\u001b[0mcluster_word_vector\u001b[0m\u001b[1;33m)\u001b[0m\u001b[1;33m\u001b[0m\u001b[0m\n\u001b[0m",
      "\u001b[1;32mE:\\conda\\lib\\site-packages\\sklearn\\base.py\u001b[0m in \u001b[0;36mfit_transform\u001b[1;34m(self, X, y, **fit_params)\u001b[0m\n\u001b[0;32m    492\u001b[0m         \u001b[1;32mif\u001b[0m \u001b[0my\u001b[0m \u001b[1;32mis\u001b[0m \u001b[1;32mNone\u001b[0m\u001b[1;33m:\u001b[0m\u001b[1;33m\u001b[0m\u001b[0m\n\u001b[0;32m    493\u001b[0m             \u001b[1;31m# fit method of arity 1 (unsupervised transformation)\u001b[0m\u001b[1;33m\u001b[0m\u001b[1;33m\u001b[0m\u001b[0m\n\u001b[1;32m--> 494\u001b[1;33m             \u001b[1;32mreturn\u001b[0m \u001b[0mself\u001b[0m\u001b[1;33m.\u001b[0m\u001b[0mfit\u001b[0m\u001b[1;33m(\u001b[0m\u001b[0mX\u001b[0m\u001b[1;33m,\u001b[0m \u001b[1;33m**\u001b[0m\u001b[0mfit_params\u001b[0m\u001b[1;33m)\u001b[0m\u001b[1;33m.\u001b[0m\u001b[0mtransform\u001b[0m\u001b[1;33m(\u001b[0m\u001b[0mX\u001b[0m\u001b[1;33m)\u001b[0m\u001b[1;33m\u001b[0m\u001b[0m\n\u001b[0m\u001b[0;32m    495\u001b[0m         \u001b[1;32melse\u001b[0m\u001b[1;33m:\u001b[0m\u001b[1;33m\u001b[0m\u001b[0m\n\u001b[0;32m    496\u001b[0m             \u001b[1;31m# fit method of arity 2 (supervised transformation)\u001b[0m\u001b[1;33m\u001b[0m\u001b[1;33m\u001b[0m\u001b[0m\n",
      "\u001b[1;32mE:\\conda\\lib\\site-packages\\sklearn\\decomposition\\incremental_pca.py\u001b[0m in \u001b[0;36mfit\u001b[1;34m(self, X, y)\u001b[0m\n\u001b[0;32m    178\u001b[0m \u001b[1;33m\u001b[0m\u001b[0m\n\u001b[0;32m    179\u001b[0m         \u001b[1;32mfor\u001b[0m \u001b[0mbatch\u001b[0m \u001b[1;32min\u001b[0m \u001b[0mgen_batches\u001b[0m\u001b[1;33m(\u001b[0m\u001b[0mn_samples\u001b[0m\u001b[1;33m,\u001b[0m \u001b[0mself\u001b[0m\u001b[1;33m.\u001b[0m\u001b[0mbatch_size_\u001b[0m\u001b[1;33m)\u001b[0m\u001b[1;33m:\u001b[0m\u001b[1;33m\u001b[0m\u001b[0m\n\u001b[1;32m--> 180\u001b[1;33m             \u001b[0mself\u001b[0m\u001b[1;33m.\u001b[0m\u001b[0mpartial_fit\u001b[0m\u001b[1;33m(\u001b[0m\u001b[0mX\u001b[0m\u001b[1;33m[\u001b[0m\u001b[0mbatch\u001b[0m\u001b[1;33m]\u001b[0m\u001b[1;33m,\u001b[0m \u001b[0mcheck_input\u001b[0m\u001b[1;33m=\u001b[0m\u001b[1;32mFalse\u001b[0m\u001b[1;33m)\u001b[0m\u001b[1;33m\u001b[0m\u001b[0m\n\u001b[0m\u001b[0;32m    181\u001b[0m \u001b[1;33m\u001b[0m\u001b[0m\n\u001b[0;32m    182\u001b[0m         \u001b[1;32mreturn\u001b[0m \u001b[0mself\u001b[0m\u001b[1;33m\u001b[0m\u001b[0m\n",
      "\u001b[1;32mE:\\conda\\lib\\site-packages\\sklearn\\decomposition\\incremental_pca.py\u001b[0m in \u001b[0;36mpartial_fit\u001b[1;34m(self, X, y, check_input)\u001b[0m\n\u001b[0;32m    216\u001b[0m                              \u001b[1;34m\"to %i between calls to partial_fit! Try \"\u001b[0m\u001b[1;33m\u001b[0m\u001b[0m\n\u001b[0;32m    217\u001b[0m                              \u001b[1;34m\"setting n_components to a fixed value.\"\u001b[0m \u001b[1;33m%\u001b[0m\u001b[1;33m\u001b[0m\u001b[0m\n\u001b[1;32m--> 218\u001b[1;33m                              (self.components_.shape[0], self.n_components_))\n\u001b[0m\u001b[0;32m    219\u001b[0m \u001b[1;33m\u001b[0m\u001b[0m\n\u001b[0;32m    220\u001b[0m         \u001b[1;31m# This is the first partial_fit\u001b[0m\u001b[1;33m\u001b[0m\u001b[1;33m\u001b[0m\u001b[0m\n",
      "\u001b[1;31mValueError\u001b[0m: Number of input features has changed from 3 to 99 between calls to partial_fit! Try setting n_components to a fixed value."
     ]
    }
   ],
   "source": [
    "ipca = IncrementalPCA(batch_size=3, copy=True, n_components=100, whiten=False)\n",
    "pca_vector = ipca.fit_transform(cluster_word_vector)"
   ]
  },
  {
   "cell_type": "markdown",
   "metadata": {},
   "source": [
    "## cosine_similarity By each word index"
   ]
  },
  {
   "cell_type": "code",
   "execution_count": 161,
   "metadata": {},
   "outputs": [
    {
     "ename": "NameError",
     "evalue": "name 'word_index' is not defined",
     "output_type": "error",
     "traceback": [
      "\u001b[1;31m---------------------------------------------------------------------------\u001b[0m",
      "\u001b[1;31mNameError\u001b[0m                                 Traceback (most recent call last)",
      "\u001b[1;32m<ipython-input-161-7a5042ec0475>\u001b[0m in \u001b[0;36m<module>\u001b[1;34m()\u001b[0m\n\u001b[0;32m      1\u001b[0m \u001b[1;32mfrom\u001b[0m \u001b[0msklearn\u001b[0m\u001b[1;33m.\u001b[0m\u001b[0mmetrics\u001b[0m\u001b[1;33m.\u001b[0m\u001b[0mpairwise\u001b[0m \u001b[1;32mimport\u001b[0m \u001b[0mcosine_similarity\u001b[0m\u001b[1;33m\u001b[0m\u001b[0m\n\u001b[0;32m      2\u001b[0m \u001b[1;31m# len(cluster_word_vector[0])\u001b[0m\u001b[1;33m\u001b[0m\u001b[1;33m\u001b[0m\u001b[0m\n\u001b[1;32m----> 3\u001b[1;33m \u001b[0mcluster_word_similarity\u001b[0m \u001b[1;33m=\u001b[0m \u001b[1;33m[\u001b[0m\u001b[0mcosine_similarity\u001b[0m\u001b[1;33m(\u001b[0m\u001b[0mcluster_word_vector\u001b[0m\u001b[1;33m[\u001b[0m\u001b[0mwords_index\u001b[0m\u001b[1;33m]\u001b[0m\u001b[1;33m,\u001b[0m\u001b[0mcluster_word_vector\u001b[0m\u001b[1;33m[\u001b[0m\u001b[0mwords_index\u001b[0m\u001b[1;33m+\u001b[0m\u001b[1;36m1\u001b[0m\u001b[1;33m]\u001b[0m\u001b[1;33m)\u001b[0m  \u001b[1;32mfor\u001b[0m \u001b[0mwords_index\u001b[0m \u001b[1;32min\u001b[0m \u001b[0mrange\u001b[0m\u001b[1;33m(\u001b[0m\u001b[0mlen\u001b[0m\u001b[1;33m(\u001b[0m\u001b[0mcluster_word_vector\u001b[0m\u001b[1;33m)\u001b[0m\u001b[1;33m)\u001b[0m \u001b[1;32mif\u001b[0m \u001b[0mword_index\u001b[0m \u001b[1;33m<\u001b[0m \u001b[0mlen\u001b[0m\u001b[1;33m(\u001b[0m\u001b[0mcluster_word_vector\u001b[0m\u001b[1;33m)\u001b[0m \u001b[1;33m-\u001b[0m \u001b[1;36m2\u001b[0m\u001b[1;33m]\u001b[0m\u001b[1;33m\u001b[0m\u001b[0m\n\u001b[0m\u001b[0;32m      4\u001b[0m \u001b[1;31m# a= [[1,1],[3,2]]\u001b[0m\u001b[1;33m\u001b[0m\u001b[1;33m\u001b[0m\u001b[0m\n\u001b[0;32m      5\u001b[0m \u001b[1;31m# b = [[1,1],[3,3]]\u001b[0m\u001b[1;33m\u001b[0m\u001b[1;33m\u001b[0m\u001b[0m\n",
      "\u001b[1;32m<ipython-input-161-7a5042ec0475>\u001b[0m in \u001b[0;36m<listcomp>\u001b[1;34m(.0)\u001b[0m\n\u001b[0;32m      1\u001b[0m \u001b[1;32mfrom\u001b[0m \u001b[0msklearn\u001b[0m\u001b[1;33m.\u001b[0m\u001b[0mmetrics\u001b[0m\u001b[1;33m.\u001b[0m\u001b[0mpairwise\u001b[0m \u001b[1;32mimport\u001b[0m \u001b[0mcosine_similarity\u001b[0m\u001b[1;33m\u001b[0m\u001b[0m\n\u001b[0;32m      2\u001b[0m \u001b[1;31m# len(cluster_word_vector[0])\u001b[0m\u001b[1;33m\u001b[0m\u001b[1;33m\u001b[0m\u001b[0m\n\u001b[1;32m----> 3\u001b[1;33m \u001b[0mcluster_word_similarity\u001b[0m \u001b[1;33m=\u001b[0m \u001b[1;33m[\u001b[0m\u001b[0mcosine_similarity\u001b[0m\u001b[1;33m(\u001b[0m\u001b[0mcluster_word_vector\u001b[0m\u001b[1;33m[\u001b[0m\u001b[0mwords_index\u001b[0m\u001b[1;33m]\u001b[0m\u001b[1;33m,\u001b[0m\u001b[0mcluster_word_vector\u001b[0m\u001b[1;33m[\u001b[0m\u001b[0mwords_index\u001b[0m\u001b[1;33m+\u001b[0m\u001b[1;36m1\u001b[0m\u001b[1;33m]\u001b[0m\u001b[1;33m)\u001b[0m  \u001b[1;32mfor\u001b[0m \u001b[0mwords_index\u001b[0m \u001b[1;32min\u001b[0m \u001b[0mrange\u001b[0m\u001b[1;33m(\u001b[0m\u001b[0mlen\u001b[0m\u001b[1;33m(\u001b[0m\u001b[0mcluster_word_vector\u001b[0m\u001b[1;33m)\u001b[0m\u001b[1;33m)\u001b[0m \u001b[1;32mif\u001b[0m \u001b[0mword_index\u001b[0m \u001b[1;33m<\u001b[0m \u001b[0mlen\u001b[0m\u001b[1;33m(\u001b[0m\u001b[0mcluster_word_vector\u001b[0m\u001b[1;33m)\u001b[0m \u001b[1;33m-\u001b[0m \u001b[1;36m2\u001b[0m\u001b[1;33m]\u001b[0m\u001b[1;33m\u001b[0m\u001b[0m\n\u001b[0m\u001b[0;32m      4\u001b[0m \u001b[1;31m# a= [[1,1],[3,2]]\u001b[0m\u001b[1;33m\u001b[0m\u001b[1;33m\u001b[0m\u001b[0m\n\u001b[0;32m      5\u001b[0m \u001b[1;31m# b = [[1,1],[3,3]]\u001b[0m\u001b[1;33m\u001b[0m\u001b[1;33m\u001b[0m\u001b[0m\n",
      "\u001b[1;31mNameError\u001b[0m: name 'word_index' is not defined"
     ]
    }
   ],
   "source": [
    "from sklearn.metrics.pairwise import cosine_similarity\n",
    "# len(cluster_word_vector[0])\n",
    "cluster_word_similarity = [cosine_similarity(cluster_word_vector[words_index],cluster_word_vector[words_index+1])  for words_index in range(len(cluster_word_vector)) if word_index < len(cluster_word_vector) - 2]\n",
    "# a= [[1,1],[3,2]]\n",
    "# b = [[1,1],[3,3]]\n",
    "# cosine_similarity(a,b)\n",
    "# cluster_word_vector[0]"
   ]
  },
  {
   "cell_type": "code",
   "execution_count": 157,
   "metadata": {},
   "outputs": [
    {
     "data": {
      "text/plain": [
       "array([[1.        , 1.        ],\n",
       "       [0.98058068, 0.98058068]])"
      ]
     },
     "execution_count": 157,
     "metadata": {},
     "output_type": "execute_result"
    }
   ],
   "source": [
    "a= [[1,1],[3,2]]\n",
    "b = [[1,1],[3,3]]\n",
    "cosine_similarity(a,b)"
   ]
  },
  {
   "cell_type": "code",
   "execution_count": 47,
   "metadata": {
    "collapsed": true
   },
   "outputs": [],
   "source": [
    "from sklearn.metrics.pairwise import cosine_similarity\n",
    "cluster_word_similarity =  cosine_similarity(cluster_word_vector,cluster_word_vector)\n",
    "test = [v[i+1:i+2] for i,v in enumerate(cluster_word_similarity)]"
   ]
  },
  {
   "cell_type": "code",
   "execution_count": 85,
   "metadata": {},
   "outputs": [
    {
     "data": {
      "image/png": "[encoded data removed]",
      "text/plain": [
       "<matplotlib.figure.Figure at 0x2121410eac8>"
      ]
     },
     "metadata": {},
     "output_type": "display_data"
    },
    {
     "data": {
      "text/plain": [
       "[59, 99, 166, 217]"
      ]
     },
     "execution_count": 85,
     "metadata": {},
     "output_type": "execute_result"
    }
   ],
   "source": [
    "import matplotlib\n",
    "import matplotlib.pyplot as plt\n",
    "# %matplotlib inlince\n",
    "# words_chart = [words[i] for i in  range(0,len(test),term) if i+doc_size < len(words)]\n",
    "# words_chart = np.array(words_chart)\n",
    "# print(words_chart.shape)\n",
    "# print(type(words_chart[1]))\n",
    "# print(words_chart[:])\n",
    "doc_slide = [int((len(index[0])-150)/term) for index in documents]\n",
    "# doc_slide = [doc_slide[i-1]+v if i != 0 else v for i,v in enumerate(doc_slide) ]\n",
    "flg = plt.figure()\n",
    "x1 = flg.add_subplot(2, 1, 1)\n",
    "\n",
    "x1.plot(test[:-1],color='blue')\n",
    "x1.grid(True)\n",
    "\n",
    "x2 = flg.add_subplot(2, 1, 2)\n",
    "x2.plot(doc_slide)\n",
    "# x2.plot(words_chart[:,[2]])\n",
    "# plt.figure(figsize=(30, 20))\n",
    "plt.show()\n",
    "\n",
    "doc_slide"
   ]
  },
  {
   "cell_type": "markdown",
   "metadata": {},
   "source": [
    "# 군집수 분석"
   ]
  },
  {
   "cell_type": "markdown",
   "metadata": {},
   "source": [
    "### 클러스터링1"
   ]
  },
  {
   "cell_type": "code",
   "execution_count": 83,
   "metadata": {},
   "outputs": [
    {
     "data": {
      "text/plain": [
       "([104, 147, 532], [0.5555555555555556, 0.6666666666666666, 0.1111111111111111])"
      ]
     },
     "execution_count": 83,
     "metadata": {},
     "output_type": "execute_result"
    }
   ],
   "source": [
    "def cluster_boundary1(similarity,repeat,min,cluster_value,term):\n",
    "    index=[]\n",
    "    sim = similarity[:]\n",
    "    #repeat 만큼 반복해서 걸러내기\n",
    "    for rpt in range(repeat):\n",
    "        sim.sort()\n",
    "        # min%만큼 낮은값만 뽑아내는 작업\n",
    "        index = [similarity.index(i) for i in sim[:int(len(sim)*(min/100))]]\n",
    "        sim = [similarity[i] for i in index]\n",
    "    \n",
    "    index.sort()\n",
    "    # 가까이있는값은 하나로 묶기 (cluster_value)\n",
    "    indexing = [v  for i,v in enumerate(index) if (v-index[i-1])/len(similarity) > cluster_value]\n",
    "#     print(index)\n",
    "#     print(indexing)\n",
    "#     print(len(similarity))\n",
    "    \n",
    "    #노이즈로 생각되는값 뽑기\n",
    "\n",
    "    # 노이즈 체크 공식 (suhyuns-sim) 전체길이  * min 퍼센트 ^ repeat 수\n",
    "    # term 으로 체크시 뒤에 노이즈범위 값안에 들어가는만큼 노이즈 count 증가 이걸 noise_check로 비율 넣기\n",
    "    noise_check = int(math.sqrt(len(similarity)*pow((min/100),2)))\n",
    "#     print(noise_check)\n",
    "#     print(index)\n",
    "    noise_count = []\n",
    "    for i in indexing:\n",
    "        check = 0\n",
    "        idx = index.index(i)\n",
    "#         print(idx)\n",
    "        while(True):\n",
    "            if idx+check >= len(index)-1 or index[idx+check+1] - index[idx] > term:\n",
    "                break\n",
    "            check +=1\n",
    "        noise_count.append(check/noise_check)\n",
    "    \n",
    "    return indexing,noise_count\n",
    "\n",
    "#0에 가까울수록 클러스터 포인트 1넘으면 100% 아님으로보면될듯\n",
    "\n",
    "cluster_boundary1(test[:-1],2,40,.04,term)"
   ]
  },
  {
   "cell_type": "markdown",
   "metadata": {},
   "source": [
    "### 클러스터링2 최대최소 비율"
   ]
  },
  {
   "cell_type": "code",
   "execution_count": 84,
   "metadata": {},
   "outputs": [
    {
     "data": {
      "text/plain": [
       "([334, 380, 423], [0.21476838979377885, 0.0, 0.0])"
      ]
     },
     "execution_count": 84,
     "metadata": {},
     "output_type": "execute_result"
    }
   ],
   "source": [
    "def cluster_boundary2(similarity,repeat,min_rate,cluster_value,term):\n",
    "    index=[]\n",
    "    sim = similarity[:]\n",
    "    #repeat 만큼 반복해서 걸러내기\n",
    "    for rpt in range(repeat):\n",
    "        #최대최소 안뽑혀서 일단 이걸로 ';;\n",
    "#         sim.sort()\n",
    "        min_value = min(sim)\n",
    "        max_value = max(sim)\n",
    "        #  max - (max-min)(1-min_ratio/100)\n",
    "        compare_rate = max_value - (max_value-min_value)*(1-min_rate/100)\n",
    "#         print(\"min :\",min_value)\n",
    "#         print(\"max :\",max_value)\n",
    "#         print(\"compare_rate :\",compare_rate)\n",
    "        \n",
    "        # min%만큼 낮은값만 뽑아내는 작업\n",
    "        index = [similarity.index(i) for i in sim if i< compare_rate]\n",
    "        sim = [similarity[i] for i in index]\n",
    "    \n",
    "    index.sort()\n",
    "    # 가까이있는값은 하나로 묶기 (cluster_value)\n",
    "    indexing = [v  for i,v in enumerate(index) if (v-index[i-1])/len(similarity) > cluster_value or i+1 == len(index)]\n",
    "\n",
    "    #노이즈로 생각되는값 뽑기\n",
    "    # 노이즈 체크 공식 (suhyuns-sim) 전체길이  * min 퍼센트 ^ repeat 수\n",
    "    # term 으로 체크시 뒤에 노이즈범위 값안에 들어가는만큼 노이즈 count 증가 이걸 noise_check로 비율 넣기\n",
    "    \n",
    "    noise_check = math.sqrt(len(similarity)*pow((min_rate/100),2))\n",
    "#     print(\"noise_check : \",noise_check)\n",
    "    noise_count = []\n",
    "#     print(\"index : \",index)\n",
    "#     print(\"indexing :\",indexing)\n",
    "    for i in indexing:\n",
    "        check = 0\n",
    "        idx = index.index(i)\n",
    "#         print(idx)\n",
    "        while(True):\n",
    "            if idx+check >= len(index)-1 or index[idx+check+1] - index[idx] > term:\n",
    "                break\n",
    "            check +=1\n",
    "        noise_count.append(check/noise_check)\n",
    "    \n",
    "    return indexing,noise_count\n",
    "\n",
    "#0에 가까울수록 클러스터 포인트 1넘으면 100% 아님으로보면될듯\n",
    "\n",
    "cluster_boundary2(test[:-1],2,40,.04,term)"
   ]
  }
 ],
 "metadata": {
  "kernelspec": {
   "display_name": "Python 3",
   "language": "python",
   "name": "python3"
  },
  "language_info": {
   "codemirror_mode": {
    "name": "ipython",
    "version": 3
   },
   "file_extension": ".py",
   "mimetype": "text/x-python",
   "name": "python",
   "nbconvert_exporter": "python",
   "pygments_lexer": "ipython3",
   "version": "3.6.1"
  }
 },
 "nbformat": 4,
 "nbformat_minor": 2
}

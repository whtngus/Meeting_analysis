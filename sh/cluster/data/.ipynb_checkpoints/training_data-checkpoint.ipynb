{
 "cells": [
  {
   "cell_type": "markdown",
   "metadata": {},
   "source": [
    "# 데이터 로드 "
   ]
  },
  {
   "cell_type": "code",
   "execution_count": 2,
   "metadata": {},
   "outputs": [
    {
     "name": "stdout",
     "output_type": "stream",
     "text": [
      "30186 200\n",
      "\n"
     ]
    }
   ],
   "source": [
    "w2v = {}\n",
    "with open(\"ko.vec\",encoding='utf-8') as vecfile:\n",
    "    print(vecfile.readline())\n",
    "    while True:\n",
    "        line = vecfile.readline().split()\n",
    "        if len(line) == 0:\n",
    "            break\n",
    "        w2v[line[0]] = line[1:]"
   ]
  },
  {
   "cell_type": "code",
   "execution_count": 22,
   "metadata": {},
   "outputs": [
    {
     "ename": "IndentationError",
     "evalue": "expected an indented block (<ipython-input-22-8e264c6b2a13>, line 60)",
     "output_type": "error",
     "traceback": [
      "\u001b[1;36m  File \u001b[1;32m\"<ipython-input-22-8e264c6b2a13>\"\u001b[1;36m, line \u001b[1;32m60\u001b[0m\n\u001b[1;33m    pos.append(t[0])\u001b[0m\n\u001b[1;37m      ^\u001b[0m\n\u001b[1;31mIndentationError\u001b[0m\u001b[1;31m:\u001b[0m expected an indented block\n"
     ]
    }
   ],
   "source": [
    "from konlpy.tag import Twitter\n",
    "import math\n",
    "import numpy as np\n",
    "\n",
    "def load_file(filesrc):\n",
    "    f = open(filesrc, 'rt', encoding='utf-16')\n",
    "#         name = \"\"\n",
    "    talk = []\n",
    "#         speak = {}\n",
    "    not_person = ['al', 'ot']\n",
    "    talk_all = []\n",
    "    while(True):\n",
    "        data = f.readline() \n",
    "        if not data: break\n",
    "\n",
    "        if(\"<u who=\" in data or \"<s n=\" in data):\n",
    "            # 발화자 구분\n",
    "#                 if \"who\" in data:\n",
    "#                     name = data[8:10]\n",
    "#                     if name in not_person:\n",
    "#                         continue\n",
    "#                     if not (name in speak):\n",
    "#                        speak[name] = [] \n",
    "\n",
    "            # 대화 추출\n",
    "            temp = data.split(\">\")\n",
    "            s = \"\"\n",
    "            for v in temp:\n",
    "                idx = v.find('<')\n",
    "                if idx < 2: continue\n",
    "#                     speak[name].append(v[:idx])\n",
    "                talk_all.append(v[:idx])\n",
    "\n",
    "    return _,talk_all\n",
    "\n",
    "def words_join(words,doc_index):\n",
    "    word_idx = []\n",
    "    doc_count = 0\n",
    "    for index,lines in enumerate(words):\n",
    "        if len(doc_index) > doc_count and index >= doc_index[doc_count]:\n",
    "            doc_count += 1\n",
    "        word_idx += [[v,index,doc_count] for v in lines.split(' ')]\n",
    "\n",
    "    return np.array(word_idx)\n",
    "\n",
    "def postaging(docs):\n",
    "    twitter=Twitter()\n",
    "    want = ['Exclamation','Adverb','Noun','Alpha','Verb','Adjective']\n",
    "    stopword = ['어어','넷','만','것','타','최','태','개','홈','선','끼','각','번','하다','음','화', '이다',' ','다','더','포','제','저','여기','고','씬','첨','난','면','으루','네']\n",
    "    pos = []\n",
    "#     pos = \"\"\n",
    "\n",
    "    for lines in docs:\n",
    "        strs=\"\"\n",
    "        for t in twitter.pos(lines, norm=True, stem=True):\n",
    "#             if (t[1] in want) and (t[0] not in stopword):\n",
    "#             if (t[0] not in stopword) and len(t[0]) > 1:\n",
    "            if (t[0] not in stopword):\n",
    "#                 pos = pos + \" \" + t[0]\n",
    "                pos.append(t[0])\n",
    "#                 strs = strs + \" \" + t[0]\n",
    "#         if strs[1:]:\n",
    "#             pos.append(strs[1:])\n",
    "\n",
    "    return pos\n",
    "\n",
    "\n",
    "\n",
    "def words_join(words,doc_index):\n",
    "        word_idx = []\n",
    "        doc_count = 0\n",
    "        for index,lines in enumerate(words):\n",
    "            if len(doc_index) > doc_count and index >= doc_index[doc_count]:\n",
    "                doc_count += 1\n",
    "            word_idx += [[v,index,doc_count] for v in lines.split(' ')]\n",
    "            \n",
    "        return np.array(word_idx)"
   ]
  },
  {
   "cell_type": "markdown",
   "metadata": {},
   "source": [
    "# 클러스터링 작업하기"
   ]
  },
  {
   "cell_type": "code",
   "execution_count": 10,
   "metadata": {},
   "outputs": [
    {
     "name": "stdout",
     "output_type": "stream",
     "text": [
      "doc_index :  [842, 4012, 4544]\n",
      "10799\n"
     ]
    }
   ],
   "source": [
    "#비교할 데이터 로드\n",
    "load_list = [\"6CM00079-학교.txt\",\"6CM00080-군대.txt\",\"6CM00082-정치.txt\"]\n",
    "talk_list = []\n",
    "speak_list = []\n",
    "doc_index = []\n",
    "\n",
    "#load는 리스트 형태  , 한번에 여러문서도가능하도록 --> 나중에는 db형식으로 교체 필요\n",
    "for path in load_list:\n",
    "    _,talks = load_file(path)\n",
    "    talk_list= talk_list + talks\n",
    "    doc_index.append(len(talk_list)-1)\n",
    "\n",
    "print(\"doc_index : \",doc_index)\n",
    "# 포스테깅 및 stopword 처리 \n",
    "word_list = postaging(talk_list)\n",
    "print(len(word_list))\n",
    "words = words_join(word_list,doc_index)"
   ]
  },
  {
   "cell_type": "code",
   "execution_count": 19,
   "metadata": {},
   "outputs": [
    {
     "name": "stdout",
     "output_type": "stream",
     "text": [
      "340\n",
      "10799\n"
     ]
    }
   ],
   "source": [
    "term = 30\n",
    "doc_size = 600\n",
    "cluster_word = []\n",
    "vector_size = 200\n",
    "\n",
    "cluster_word = [words[i:i+doc_size] for i in  range(0,len(words),term) if i+doc_size < len(words)]\n",
    "# print(\"cluster_word[0] : \",cluster_word[0])\n",
    "print(len(cluster_word))\n",
    "print(len(words))\n",
    "cluster_word_vector = []\n",
    "\n",
    "for words_list in cluster_word:\n",
    "    sum = np.zeros(vector_size,dtype=float)\n",
    "#     print(words_list)\n",
    "    for v in [w2v[vector[0]] for vector in words_list if vector[0] in w2v]:\n",
    "        #형변환 필요\n",
    "        v = [float(i) for i in v]\n",
    "        sum = np.add(sum,v)\n",
    "    cluster_word_vector.append(sum)"
   ]
  },
  {
   "cell_type": "code",
   "execution_count": 20,
   "metadata": {
    "collapsed": true
   },
   "outputs": [],
   "source": [
    "from sklearn.metrics.pairwise import cosine_similarity\n",
    "cluster_word_similarity =  cosine_similarity(cluster_word_vector,cluster_word_vector)\n",
    "test = [v[i+1:i+2] for i,v in enumerate(cluster_word_similarity)]"
   ]
  },
  {
   "cell_type": "code",
   "execution_count": 21,
   "metadata": {},
   "outputs": [
    {
     "name": "stdout",
     "output_type": "stream",
     "text": [
      "(340, 3)\n",
      "<class 'numpy.ndarray'>\n"
     ]
    },
    {
     "data": {
      "image/png": "[encoded data removed]",
      "text/plain": [
       "<matplotlib.figure.Figure at 0x2af79991e48>"
      ]
     },
     "metadata": {},
     "output_type": "display_data"
    }
   ],
   "source": [
    "import matplotlib\n",
    "import matplotlib.pyplot as plt\n",
    "# %matplotlib inlince\n",
    "words_chart = [words[i] for i in  range(0,len(words),term) if i+doc_size < len(words)]\n",
    "words_chart = np.array(words_chart)\n",
    "print(words_chart.shape)\n",
    "print(type(words_chart[1]))\n",
    "# print(words_chart[:])\n",
    "flg = plt.figure()\n",
    "x1 = flg.add_subplot(2, 1, 1)\n",
    "\n",
    "x1.plot(test[:-1],color='blue')\n",
    "x1.grid(True)\n",
    "\n",
    "x2 = flg.add_subplot(2, 1, 2)\n",
    "x2.plot(words_chart[:,[2]])\n",
    "# plt.figure(figsize=(30, 20))\n",
    "plt.show()"
   ]
  },
  {
   "cell_type": "code",
   "execution_count": null,
   "metadata": {
    "collapsed": true
   },
   "outputs": [],
   "source": []
  },
  {
   "cell_type": "code",
   "execution_count": null,
   "metadata": {
    "collapsed": true
   },
   "outputs": [],
   "source": []
  }
 ],
 "metadata": {
  "kernelspec": {
   "display_name": "Python 3",
   "language": "python",
   "name": "python3"
  },
  "language_info": {
   "codemirror_mode": {
    "name": "ipython",
    "version": 3
   },
   "file_extension": ".py",
   "mimetype": "text/x-python",
   "name": "python",
   "nbconvert_exporter": "python",
   "pygments_lexer": "ipython3",
   "version": "3.6.3"
  }
 },
 "nbformat": 4,
 "nbformat_minor": 2
}

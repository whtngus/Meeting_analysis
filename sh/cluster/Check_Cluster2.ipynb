{
 "cells": [
  {
   "cell_type": "code",
   "execution_count": 40,
   "metadata": {},
   "outputs": [],
   "source": [
    "# -*- coding: utf-8 -*-\n",
    "import random\n",
    "import numpy as np\n",
    "import tensorflow as tf\n",
    "import collections\n",
    "import math\n",
    "from six.moves import xrange\n",
    "from konlpy.tag import Twitter\n",
    "from six.moves import xrange\n",
    "\n",
    "class Word2Vec:\n",
    "    # 데이터 에서 대화만 가져오기 \n",
    "    def load_file(self,filesrc):\n",
    "        f = open(filesrc, 'rt', encoding='utf-16')\n",
    "        name = \"\"\n",
    "        talk = []\n",
    "        speak = {}\n",
    "        not_person = ['al', 'ot']\n",
    "        talk_all = []\n",
    "        while(True):\n",
    "            data = f.readline() \n",
    "            if not data: break\n",
    "    \n",
    "            if(\"<u who=\" in data or \"<s n=\" in data):\n",
    "                # 발화자 구분\n",
    "                if \"who\" in data:\n",
    "                    name = data[8:10]\n",
    "                    if name in not_person:\n",
    "                        continue\n",
    "                    if not (name in speak):\n",
    "                       speak[name] = [] \n",
    "    \n",
    "                # 대화 추출\n",
    "                temp = data.split(\">\")\n",
    "                s = \"\"\n",
    "                for v in temp:\n",
    "                    idx = v.find('<')\n",
    "                    if idx < 2: continue\n",
    "                    speak[name].append(v[:idx])\n",
    "                    talk_all.append(v[:idx])\n",
    "    \n",
    "        return speak,talk_all\n",
    "\n",
    "    \n",
    "    def words_join(self,words,doc_index):\n",
    "        word_idx = []\n",
    "        doc_count = 0\n",
    "        for index,lines in enumerate(words):\n",
    "            if len(doc_index) > doc_count and index >= doc_index[doc_count]:\n",
    "                doc_count += 1\n",
    "            word_idx += [[v,index,doc_count] for v in lines.split(' ')]\n",
    "            \n",
    "        return np.array(word_idx)\n",
    "#         return \" \".join(words).split(' ')\n",
    "    \n",
    "    def postaging(self,docs):\n",
    "        twitter=Twitter()\n",
    "        want = ['Exclamation','Adverb','Noun','Alpha','Verb','Adjective']\n",
    "        stopword = ['어어','넷','만','것','타','최','태','개','홈','선','끼','각','번','하다','음','화', '이다',' ','다','더','포','제','저','여기','고','씬','첨','난','면','으루','네']\n",
    "        pos = []\n",
    "        \n",
    "        for lines in docs:\n",
    "            strs=\"\"\n",
    "            for t in twitter.pos(lines, norm=True, stem=True):\n",
    "#                 if (t[1] in want) and (t[0] not in stopword):\n",
    "                if t[0] not in stopword:\n",
    "                    strs = strs + \" \" + t[0]  \n",
    "            pos.append(strs[1:])\n",
    "        \n",
    "        return pos\n",
    "    \n",
    "    # word_list를 불러오기전 함수 \n",
    "    #def __init__(self, word_list,vector_size,load_list):\n",
    "    \n",
    "    def __init__(self,vector_size,load_list,skip_window=3,num_steps=50001):\n",
    "        #데이터 로드\n",
    "        self.talk_list = []\n",
    "        speak_list = []\n",
    "        doc_index = []\n",
    "        \n",
    "        #load는 리스트 형태  , 한번에 여러문서도가능하도록 --> 나중에는 db형식으로 교체 필요\n",
    "        for path in load_list:\n",
    "            _,talks = self.load_file(path)\n",
    "            self.talk_list= self.talk_list + talks\n",
    "            doc_index.append(len(self.talk_list)-1)\n",
    "        \n",
    "        \n",
    "        # 포스테깅 및 stopword 처리 \n",
    "        word_list = self.postaging(self.talk_list)\n",
    "    \n",
    "        \n",
    "        #테스트 데이터로 확인식 보통 단어수 2000개를 넘지 못함 \n",
    "        self.vocabulary_size = 4000# 원핫 인코딩 시킬 단어의 갯수   \n",
    "        self.words = self.words_join(word_list,doc_index)\n",
    "        print(\"len(words) : \",len(self.words))\n",
    "#         print(\"words : \",\" \".join(self.talk_list).split(' '))\n",
    "        self.data, self.count, self.dictionary, self.reverse_dictionary = self.build_dataset(self.words[:,[0]].reshape(-1))\n",
    "        self.batch, self.labels = self.generate_batch(batch_size=8, num_skips=2, skip_window=skip_window)\n",
    "        self.batch_size = 32\n",
    "        self.embedding_size = vector_size  # embedding vector의 크기. 아웃풋 크기 \n",
    "        self.skip_window = skip_window     # 윈도우 크기 : 왼쪽과 오른쪽으로 얼마나 많은 단어를 고려할지를 결정.\n",
    "        self.num_skips = 2         # 레이블(label)을 생성하기 위해 인풋을 얼마나 많이 재사용 할 것인지를 결정.\n",
    "\n",
    "        self.num_sampled = 64    # sample에 대한 negative examples의 개수.\n",
    "        self.num_steps = num_steps  # server 시 올리\n",
    "        \n",
    "        self.final_embeddings = self.train(self.reverse_dictionary,self.data)\n",
    "        \n",
    "        \n",
    "    def output(self):\n",
    "        return self.final_embeddings, self.data, self.count, self.dictionary, self.reverse_dictionary,self.words,self.talk_list\n",
    "      \n",
    "        \n",
    "    def train(self,reverse_dictionary,data):\n",
    "        graph = tf.Graph()\n",
    "        with graph.as_default():\n",
    "        \n",
    "          # 트레이닝을 위한 인풋 데이터들\n",
    "          train_inputs = tf.placeholder(tf.int32, shape=[self.batch_size])\n",
    "          train_labels = tf.placeholder(tf.int32, shape=[self.batch_size, 1])\n",
    "        \n",
    "          # Ops and variables pinned to the CPU because of missing GPU implementation\n",
    "          with tf.device('/cpu:0'):\n",
    "            # embedding vectors 행렬을 랜덤값으로 초기화\n",
    "              embeddings = tf.Variable(\n",
    "                    tf.random_uniform([self.vocabulary_size, self.embedding_size], -1.0, 1.0))\n",
    "            # 행렬에 트레이닝 데이터를 지정\n",
    "              embed = tf.nn.embedding_lookup(embeddings, train_inputs)\n",
    "        \n",
    "              # NCE loss를 위한 변수들을 선언\n",
    "              nce_weights = tf.Variable(tf.truncated_normal([self.vocabulary_size, self.embedding_size], stddev=1.0 / math.sqrt(self.embedding_size)))\n",
    "              nce_biases = tf.Variable(tf.zeros([self.vocabulary_size]))\n",
    "        \n",
    "          # batch의 average NCE loss를 계산한다.\n",
    "          # tf.nce_loss 함수는 loss를 평가(evaluate)할 때마다 negative labels을 가진 새로운 샘플을 자동적으로 생성한다.\n",
    "          loss = tf.reduce_mean(\n",
    "              tf.nn.nce_loss(weights=nce_weights,\n",
    "                             biases=nce_biases,\n",
    "                             labels=train_labels,\n",
    "                             inputs=embed,\n",
    "                             num_sampled=self.num_sampled,\n",
    "                             num_classes=self.vocabulary_size))\n",
    "        \n",
    "          optimizer = tf.train.AdamOptimizer(0.01).minimize(loss)\n",
    "        \n",
    "        \n",
    "          # minibatch examples과 모든 embeddings에 대해 cosine similarity를 계산한다.\n",
    "          norm = tf.sqrt(tf.reduce_sum(tf.square(embeddings), 1, keep_dims=True))\n",
    "          normalized_embeddings = embeddings / norm\n",
    "\n",
    "        with tf.Session(graph=graph) as session:\n",
    "          # 트레이닝을 시작하기 전에 모든 변수들을 초기화한다.\n",
    "            tf.initialize_all_variables().run()\n",
    "            print(\"Initialized\")\n",
    "        \n",
    "            average_loss = 0\n",
    "            for step in xrange(self.num_steps):\n",
    "                batch_inputs, batch_labels = self.generate_batch(self.batch_size, self.num_skips, self.skip_window)\n",
    "                feed_dict = {train_inputs : batch_inputs, train_labels : batch_labels}\n",
    "            \n",
    "            # optimizer op을 평가(evaluating)하면서 한 스텝 업데이트를 진행한다.\n",
    "                _, loss_val = session.run([optimizer, loss], feed_dict=feed_dict)\n",
    "                average_loss += loss_val\n",
    "        \n",
    "                if step % 2000 == 0:\n",
    "                    if step > 0:\n",
    "                        average_loss /= 2000\n",
    "                    # 평균 손실(average loss)은 지난 2000 배치의 손실(loss)로부터 측정된다.\n",
    "                    print(\"Average loss at step \", step, \": \", average_loss)\n",
    "                    average_loss = 0\n",
    "                \n",
    "                final_embeddings = normalized_embeddings.eval(session=session)\n",
    "                \n",
    "        return final_embeddings\n",
    "          \n",
    "    \n",
    "    def build_dataset(self,words):\n",
    "      count = [['UNK', -1]]\n",
    "      count.extend(collections.Counter(words).most_common(self.vocabulary_size - 1))\n",
    "      dictionary = dict()\n",
    "      for word, _ in count:\n",
    "        dictionary[word] = len(dictionary)\n",
    "      data = list()\n",
    "      unk_count = 0\n",
    "      for word in words:\n",
    "        if word in dictionary:\n",
    "          index = dictionary[word]\n",
    "        else:\n",
    "          index = 0  # dictionary['UNK']\n",
    "          unk_count += 1\n",
    "        data.append(index)\n",
    "      count[0][1] = unk_count\n",
    "      reverse_dictionary = dict(zip(dictionary.values(), dictionary.keys()))\n",
    "      return data, count, dictionary, reverse_dictionary\n",
    "    \n",
    "    \n",
    "    # Step 3: skip-gram model을 위한 트레이닝 데이터(batch)를 생성하기 위한 함수.\n",
    "    def generate_batch(self,batch_size, num_skips, skip_window):\n",
    "        data_index = 0\n",
    "        #global data_index\n",
    "        assert batch_size % num_skips == 0\n",
    "        assert num_skips <= 2 * skip_window\n",
    "        batch = np.ndarray(shape=(batch_size), dtype=np.int32)\n",
    "        labels = np.ndarray(shape=(batch_size, 1), dtype=np.int32)\n",
    "        span = 2 * skip_window + 1 # [ skip_window target skip_window ]\n",
    "        buffer = collections.deque(maxlen=span)\n",
    "        \n",
    "        for _ in range(span):\n",
    "            buffer.append(self.data[data_index])\n",
    "            data_index = (data_index + 1) % len(self.data)\n",
    "        for i in range(batch_size // num_skips):\n",
    "            target = skip_window  # target label at the center of the buffer\n",
    "            targets_to_avoid = [ skip_window ]\n",
    "            for j in range(num_skips):\n",
    "                while target in targets_to_avoid:\n",
    "                    target = random.randint(0, span - 1)\n",
    "                targets_to_avoid.append(target)\n",
    "                batch[i * num_skips + j] = buffer[skip_window]\n",
    "                labels[i * num_skips + j, 0] = buffer[target]\n",
    "            buffer.append(self.data[data_index])\n",
    "            data_index = (data_index + 1) % len(self.data)\n",
    "        return batch, labels\n",
    "\n",
    "\n",
    "    def similarity(self,find_word,top_word):\n",
    "        find_word_data = self.final_embeddings[self.dictionary[find_word]]\n",
    "        sims = []\n",
    "        for key,value in  self.dictionary.items():\n",
    "            similarity = self.final_embeddings[value]\n",
    "            cosine_similarity = np.dot(find_word_data, similarity)/(np.linalg.norm(find_word_data)* np.linalg.norm(similarity))\n",
    "            sims.append([cosine_similarity,key])\n",
    "        sims.sort(reverse=True)\n",
    "        return sims[1:top_word+1]\n",
    "    "
   ]
  },
  {
   "cell_type": "code",
   "execution_count": 70,
   "metadata": {},
   "outputs": [
    {
     "name": "stdout",
     "output_type": "stream",
     "text": [
      "len(words) :  21212\n",
      "Initialized\n",
      "Average loss at step  0 :  203.19180297851562\n",
      "Average loss at step  2000 :  15.126086851477623\n",
      "Average loss at step  4000 :  2.25148791128397\n",
      "Average loss at step  6000 :  2.2194304577708244\n",
      "Average loss at step  8000 :  2.1863915560245513\n",
      "Average loss at step  10000 :  2.147847102224827\n",
      "Average loss at step  12000 :  2.117816001176834\n",
      "Average loss at step  14000 :  2.103011203944683\n",
      "Average loss at step  16000 :  2.094485664665699\n",
      "Average loss at step  18000 :  2.0892524178624154\n",
      "Average loss at step  20000 :  2.0819243863224983\n",
      "Average loss at step  22000 :  2.065970941245556\n",
      "Average loss at step  24000 :  2.070924902737141\n",
      "Average loss at step  26000 :  2.065164460659027\n",
      "Average loss at step  28000 :  2.0602382747530936\n",
      "Average loss at step  30000 :  2.069540703415871\n",
      "Average loss at step  32000 :  2.0513923819065094\n",
      "Average loss at step  34000 :  2.0713518904447557\n",
      "Average loss at step  36000 :  2.054396885037422\n",
      "Average loss at step  38000 :  2.0660778750777244\n",
      "Average loss at step  40000 :  2.0688704654574392\n",
      "Average loss at step  42000 :  2.0641693004965784\n",
      "Average loss at step  44000 :  2.057890932679176\n",
      "Average loss at step  46000 :  2.061315576136112\n",
      "Average loss at step  48000 :  2.052318628013134\n",
      "Average loss at step  50000 :  2.0545336203575135\n",
      "Average loss at step  52000 :  2.0441329513788222\n",
      "Average loss at step  54000 :  2.0517391940355303\n",
      "Average loss at step  56000 :  2.047047397732735\n",
      "Average loss at step  58000 :  2.0407890600562095\n",
      "Average loss at step  60000 :  2.0623280270695687\n",
      "Average loss at step  62000 :  2.0422224786281586\n",
      "Average loss at step  64000 :  2.0405030488371847\n",
      "Average loss at step  66000 :  2.0351240096688272\n",
      "Average loss at step  68000 :  2.0505028815865516\n",
      "Average loss at step  70000 :  2.0534156404733657\n",
      "Average loss at step  72000 :  2.0531612897515297\n",
      "Average loss at step  74000 :  2.051843206822872\n",
      "Average loss at step  76000 :  2.0605693174004553\n",
      "Average loss at step  78000 :  2.061190944969654\n",
      "Average loss at step  80000 :  2.0601766911149024\n",
      "Average loss at step  82000 :  2.047084927558899\n",
      "Average loss at step  84000 :  2.0532838789224623\n",
      "Average loss at step  86000 :  2.0567706516981126\n",
      "Average loss at step  88000 :  2.0540358555316924\n",
      "Average loss at step  90000 :  2.051803784430027\n",
      "Average loss at step  92000 :  2.0532350810766222\n",
      "Average loss at step  94000 :  2.0382504407167437\n",
      "Average loss at step  96000 :  2.055008283793926\n",
      "Average loss at step  98000 :  2.0520407406687737\n",
      "Average loss at step  100000 :  2.0633854605555535\n",
      "Average loss at step  102000 :  2.0466594104766846\n",
      "Average loss at step  104000 :  2.0478295541405678\n",
      "Average loss at step  106000 :  2.068976361453533\n",
      "Average loss at step  108000 :  2.0592464483976363\n",
      "Average loss at step  110000 :  2.0628892118930815\n",
      "Average loss at step  112000 :  2.037243050515652\n",
      "Average loss at step  114000 :  2.062060388803482\n",
      "Average loss at step  116000 :  2.0485789400339125\n",
      "Average loss at step  118000 :  2.063320115029812\n",
      "Average loss at step  120000 :  2.0499441673755645\n",
      "Average loss at step  122000 :  2.0444507195949555\n",
      "Average loss at step  124000 :  2.037799122750759\n",
      "Average loss at step  126000 :  2.0477024107575414\n",
      "Average loss at step  128000 :  2.0503909546732904\n",
      "Average loss at step  130000 :  2.054983408153057\n",
      "Average loss at step  132000 :  2.049069240629673\n",
      "Average loss at step  134000 :  2.0653160035014153\n",
      "Average loss at step  136000 :  2.058367605686188\n",
      "Average loss at step  138000 :  2.0562634053230284\n",
      "Average loss at step  140000 :  2.06313297522068\n",
      "Average loss at step  142000 :  2.054212090790272\n",
      "Average loss at step  144000 :  2.056433964192867\n",
      "Average loss at step  146000 :  2.0563945372104646\n",
      "Average loss at step  148000 :  2.0511631930470466\n",
      "Average loss at step  150000 :  2.0572809637784957\n",
      "Average loss at step  152000 :  2.05555623203516\n",
      "Average loss at step  154000 :  2.059948495924473\n",
      "Average loss at step  156000 :  2.0414822647571564\n",
      "Average loss at step  158000 :  2.048905633985996\n",
      "Average loss at step  160000 :  2.050555804729462\n",
      "Average loss at step  162000 :  2.053901228070259\n",
      "Average loss at step  164000 :  2.037040490984917\n",
      "Average loss at step  166000 :  2.064060113430023\n",
      "Average loss at step  168000 :  2.0651970492601395\n",
      "Average loss at step  170000 :  2.070746461391449\n",
      "Average loss at step  172000 :  2.0492053362131117\n",
      "Average loss at step  174000 :  2.048209815859795\n",
      "Average loss at step  176000 :  2.0525399799346924\n",
      "Average loss at step  178000 :  2.032769551217556\n",
      "Average loss at step  180000 :  2.0491921765208243\n",
      "Average loss at step  182000 :  2.040752125740051\n",
      "Average loss at step  184000 :  2.044830609560013\n",
      "Average loss at step  186000 :  2.052431810379028\n",
      "Average loss at step  188000 :  2.0487608484625817\n",
      "Average loss at step  190000 :  2.0601644755601884\n",
      "Average loss at step  192000 :  2.0486041066646576\n",
      "Average loss at step  194000 :  2.032120155155659\n",
      "Average loss at step  196000 :  2.0517642076015474\n",
      "Average loss at step  198000 :  2.0625774609446528\n",
      "Average loss at step  200000 :  2.051609391272068\n"
     ]
    }
   ],
   "source": [
    "# import Word2Vec\n",
    "\n",
    "\n",
    "#load = [\"6CM00079.txt\",\"6CM00080.txt\",\"6CM00082.txt\",\"6CM00083.txt\",\"6CM00088.txt\",\"6CM00090.txt\",\"6CM00092.txt\",\"6CM00093.txt\",\"6CM00094.txt\",\"6CM00095.txt\"]\n",
    "# load = \"sh_news3.txt\"\n",
    "load = [\"6CM00079-학교.txt\",\"6CM00080-군대.txt\",\"6CM00082-정치.txt\"]\n",
    "\n",
    "\n",
    "# 호출 및 벡터 사이즈 설정 \n",
    "vector_size = 50\n",
    "skip_window = 5\n",
    "num_steps = 200001\n",
    "#word2vec = Word2Vec.Word2Vec(pos,vector_size)\n",
    "word2vec = Word2Vec(vector_size,load,skip_window,num_steps)\n",
    "final_embeddings, datas, count, dictionary, reverse_dictionary,words,talk_list = word2vec.output()\n",
    "# 유사한 단어 불러오기 \n",
    "#print(dictionary)\n",
    "# result = word2vec.similarity(\"군대\",100)\n",
    "# print(result)\n"
   ]
  },
  {
   "cell_type": "markdown",
   "metadata": {},
   "source": [
    "# 방법1"
   ]
  },
  {
   "cell_type": "code",
   "execution_count": 6,
   "metadata": {},
   "outputs": [
    {
     "name": "stdout",
     "output_type": "stream",
     "text": [
      "13304\n",
      "13904\n"
     ]
    }
   ],
   "source": [
    "term = 30\n",
    "doc_size = 600\n",
    "\n",
    "cluster_word = []\n",
    "# cluster_word = [words[i:i+doc_size] for i,v in  enumerate(words) if i+doc_size < len(words) and i%term == 0]\n",
    "cluster_word = [words[i:i+doc_size] for i,v in  enumerate(words) if i+doc_size < len(words)]\n",
    "# print(\"cluster_word[0] : \",cluster_word[0])\n",
    "print(len(cluster_word))\n",
    "print(len(words))\n",
    "cluster_word_vector = []\n",
    "\n",
    "for words_list in cluster_word:\n",
    "    sum=[.0,.0,.0,.0,.0,.0,.0,.0,.0,.0,.0,.0,.0,.0,.0]\n",
    "    for v in [final_embeddings[dictionary[vector[0]]] for vector in words_list]:\n",
    "        sum = np.add(sum,v)\n",
    "    cluster_word_vector.append(sum)"
   ]
  },
  {
   "cell_type": "code",
   "execution_count": 20,
   "metadata": {
    "collapsed": true
   },
   "outputs": [],
   "source": [
    "from sklearn.metrics.pairwise import cosine_similarity\n",
    "cluster_word_similarity =  cosine_similarity(cluster_word_vector,cluster_word_vector)\n",
    "# print(cluster_word_vector)"
   ]
  },
  {
   "cell_type": "code",
   "execution_count": 20,
   "metadata": {},
   "outputs": [
    {
     "name": "stdout",
     "output_type": "stream",
     "text": [
      "444\n",
      "0\n"
     ]
    },
    {
     "data": {
      "image/png": "[encoded data removed]",
      "text/plain": [
       "<matplotlib.figure.Figure at 0x209a9e33630>"
      ]
     },
     "metadata": {},
     "output_type": "display_data"
    }
   ],
   "source": [
    "import matplotlib.pyplot as plt\n",
    "print(len(cluster_word_similarity))\n",
    "for i in range(0,len(cluster_word_similarity),3000):\n",
    "    print(i)\n",
    "    plt.plot(cluster_word_similarity[i])\n",
    "    plt.show()"
   ]
  },
  {
   "cell_type": "markdown",
   "metadata": {},
   "source": [
    "# 방법2"
   ]
  },
  {
   "cell_type": "code",
   "execution_count": 74,
   "metadata": {},
   "outputs": [
    {
     "name": "stdout",
     "output_type": "stream",
     "text": [
      "688\n",
      "21212\n"
     ]
    }
   ],
   "source": [
    "term = 30\n",
    "doc_size = 600\n",
    "\n",
    "cluster_word = []\n",
    "\n",
    "cluster_word = [words[i:i+doc_size] for i in  range(0,len(words),term) if i+doc_size < len(words)]\n",
    "# print(\"cluster_word[0] : \",cluster_word[0])\n",
    "print(len(cluster_word))\n",
    "print(len(words))\n",
    "cluster_word_vector = []\n",
    "\n",
    "for words_list in cluster_word:\n",
    "    sum = np.zeros(vector_size,dtype=float)\n",
    "    for v in [final_embeddings[dictionary[vector[0]]] for vector in words_list]:\n",
    "        sum = np.add(sum,v)\n",
    "    cluster_word_vector.append(sum)"
   ]
  },
  {
   "cell_type": "code",
   "execution_count": 75,
   "metadata": {
    "collapsed": true
   },
   "outputs": [],
   "source": [
    "from sklearn.metrics.pairwise import cosine_similarity\n",
    "cluster_word_similarity =  cosine_similarity(cluster_word_vector,cluster_word_vector)\n",
    "test = [v[i+1:i+2] for i,v in enumerate(cluster_word_similarity)]"
   ]
  },
  {
   "cell_type": "code",
   "execution_count": 76,
   "metadata": {
    "scrolled": true
   },
   "outputs": [
    {
     "name": "stdout",
     "output_type": "stream",
     "text": [
      "(688, 3)\n",
      "<class 'numpy.ndarray'>\n"
     ]
    },
    {
     "data": {
      "image/png": "[encoded data removed]",
      "text/plain": [
       "<matplotlib.figure.Figure at 0x1a5efcb5b38>"
      ]
     },
     "metadata": {},
     "output_type": "display_data"
    }
   ],
   "source": [
    "import matplotlib\n",
    "import matplotlib.pyplot as plt\n",
    "# %matplotlib inlince\n",
    "words_chart = [words[i] for i in  range(0,len(words),term) if i+doc_size < len(words)]\n",
    "words_chart = np.array(words_chart)\n",
    "print(words_chart.shape)\n",
    "print(type(words_chart[1]))\n",
    "# print(words_chart[:])\n",
    "flg = plt.figure()\n",
    "x1 = flg.add_subplot(2, 1, 1)\n",
    "\n",
    "x1.plot(test[:-1],color='blue')\n",
    "x1.grid(True)\n",
    "\n",
    "x2 = flg.add_subplot(2, 1, 2)\n",
    "x2.plot(words_chart[:,[2]])\n",
    "# plt.figure(figsize=(30, 20))\n",
    "plt.show()"
   ]
  },
  {
   "cell_type": "markdown",
   "metadata": {},
   "source": [
    "# 군집수 분석"
   ]
  },
  {
   "cell_type": "markdown",
   "metadata": {},
   "source": [
    "### 인덱스 범위값 보기"
   ]
  },
  {
   "cell_type": "code",
   "execution_count": 5,
   "metadata": {
    "collapsed": true
   },
   "outputs": [
    {
     "name": "stdout",
     "output_type": "stream",
     "text": [
      "[['교생실습' '0' '0']\n",
      " ['가다' '0' '0']\n",
      " ['온' '0' '0']\n",
      " ['얘기' '0' '0']\n",
      " ['해' '0' '0']\n",
      " ['드리다' '0' '0']\n",
      " ['그렇다' '1' '0']\n",
      " ['되게' '2' '0']\n",
      " ['궁금하다' '2' '0']\n",
      " ['아' '3' '0']\n",
      " ['그렇다' '3' '0']\n",
      " ['갖다' '3' '0']\n",
      " ['저희' '4' '0']\n",
      " ['교생' '4' '0']\n",
      " ['되게' '4' '0']\n",
      " ['많다' '4' '0']\n",
      " ['' '5' '0']\n",
      " ['인제' '6' '0']\n",
      " ['나이' '7' '0']\n",
      " ['제일' '7' '0']]\n"
     ]
    }
   ],
   "source": [
    "def talk_str(talk_list,words_chart,start,end):\n",
    "    return talk_list[int(words_chart[start][1]):int(words_chart[end][1])],int(words_chart[end][1])-int(words_chart[start][1])\n",
    "\n",
    "# str , size = talk_str(talk_list,words_chart,140,150)\n",
    "# print(size)\n",
    "# print(str)\n",
    "print(words[:20])"
   ]
  },
  {
   "cell_type": "markdown",
   "metadata": {},
   "source": [
    "### 클러스터링1"
   ]
  },
  {
   "cell_type": "code",
   "execution_count": 72,
   "metadata": {},
   "outputs": [
    {
     "data": {
      "text/plain": [
       "([145, 186, 354, 424], [0.1, 0.3, 0.5, 0.2])"
      ]
     },
     "execution_count": 72,
     "metadata": {},
     "output_type": "execute_result"
    }
   ],
   "source": [
    "def cluster_boundary1(similarity,repeat,min,cluster_value,term):\n",
    "    index=[]\n",
    "    sim = similarity[:]\n",
    "    #repeat 만큼 반복해서 걸러내기\n",
    "    for rpt in range(repeat):\n",
    "        sim.sort()\n",
    "        # min%만큼 낮은값만 뽑아내는 작업\n",
    "        index = [similarity.index(i) for i in sim[:int(len(sim)*(min/100))]]\n",
    "        sim = [similarity[i] for i in index]\n",
    "    \n",
    "    index.sort()\n",
    "    # 가까이있는값은 하나로 묶기 (cluster_value)\n",
    "    indexing = [v  for i,v in enumerate(index) if (v-index[i-1])/len(similarity) > cluster_value]\n",
    "#     print(index)\n",
    "#     print(indexing)\n",
    "#     print(len(similarity))\n",
    "    \n",
    "    #노이즈로 생각되는값 뽑기\n",
    "\n",
    "    # 노이즈 체크 공식 (suhyuns-sim) 전체길이  * min 퍼센트 ^ repeat 수\n",
    "    # term 으로 체크시 뒤에 노이즈범위 값안에 들어가는만큼 노이즈 count 증가 이걸 noise_check로 비율 넣기\n",
    "    noise_check = int(math.sqrt(len(similarity)*pow((min/100),2)))\n",
    "#     print(noise_check)\n",
    "#     print(index)\n",
    "    noise_count = []\n",
    "    for i in indexing:\n",
    "        check = 0\n",
    "        idx = index.index(i)\n",
    "#         print(idx)\n",
    "        while(True):\n",
    "            if idx+check >= len(index)-1 or index[idx+check+1] - index[idx] > term:\n",
    "                break\n",
    "            check +=1\n",
    "        noise_count.append(check/noise_check)\n",
    "    \n",
    "    return indexing,noise_count\n",
    "\n",
    "#0에 가까울수록 클러스터 포인트 1넘으면 100% 아님으로보면될듯\n",
    "\n",
    "cluster_boundary1(test[:-1],2,40,.04,term)"
   ]
  },
  {
   "cell_type": "markdown",
   "metadata": {},
   "source": [
    "### 클러스터링2 최대최소 비율"
   ]
  },
  {
   "cell_type": "code",
   "execution_count": 73,
   "metadata": {},
   "outputs": [
    {
     "data": {
      "text/plain": [
       "([567, 637], [0.0, 0.0])"
      ]
     },
     "execution_count": 73,
     "metadata": {},
     "output_type": "execute_result"
    }
   ],
   "source": [
    "def cluster_boundary2(similarity,repeat,min_rate,cluster_value,term):\n",
    "    index=[]\n",
    "    sim = similarity[:]\n",
    "    #repeat 만큼 반복해서 걸러내기\n",
    "    for rpt in range(repeat):\n",
    "        #최대최소 안뽑혀서 일단 이걸로 ';;\n",
    "#         sim.sort()\n",
    "        min_value = min(sim)\n",
    "        max_value = max(sim)\n",
    "        #  max - (max-min)(1-min_ratio/100)\n",
    "        compare_rate = max_value - (max_value-min_value)*(1-min_rate/100)\n",
    "#         print(\"min :\",min_value)\n",
    "#         print(\"max :\",max_value)\n",
    "#         print(\"compare_rate :\",compare_rate)\n",
    "        \n",
    "        # min%만큼 낮은값만 뽑아내는 작업\n",
    "        index = [similarity.index(i) for i in sim if i< compare_rate]\n",
    "        sim = [similarity[i] for i in index]\n",
    "    \n",
    "    index.sort()\n",
    "    # 가까이있는값은 하나로 묶기 (cluster_value)\n",
    "    indexing = [v  for i,v in enumerate(index) if (v-index[i-1])/len(similarity) > cluster_value or i+1 == len(index)]\n",
    "\n",
    "    #노이즈로 생각되는값 뽑기\n",
    "    # 노이즈 체크 공식 (suhyuns-sim) 전체길이  * min 퍼센트 ^ repeat 수\n",
    "    # term 으로 체크시 뒤에 노이즈범위 값안에 들어가는만큼 노이즈 count 증가 이걸 noise_check로 비율 넣기\n",
    "    \n",
    "    noise_check = math.sqrt(len(similarity)*pow((min_rate/100),2))\n",
    "#     print(\"noise_check : \",noise_check)\n",
    "    noise_count = []\n",
    "#     print(\"index : \",index)\n",
    "#     print(\"indexing :\",indexing)\n",
    "    for i in indexing:\n",
    "        check = 0\n",
    "        idx = index.index(i)\n",
    "#         print(idx)\n",
    "        while(True):\n",
    "            if idx+check >= len(index)-1 or index[idx+check+1] - index[idx] > term:\n",
    "                break\n",
    "            check +=1\n",
    "        noise_count.append(check/noise_check)\n",
    "    \n",
    "    return indexing,noise_count\n",
    "\n",
    "#0에 가까울수록 클러스터 포인트 1넘으면 100% 아님으로보면될듯\n",
    "\n",
    "cluster_boundary2(test[:-1],2,40,.04,term)"
   ]
  },
  {
   "cell_type": "code",
   "execution_count": 126,
   "metadata": {},
   "outputs": [
    {
     "data": {
      "text/plain": [
       "3"
      ]
     },
     "execution_count": 126,
     "metadata": {},
     "output_type": "execute_result"
    }
   ],
   "source": [
    "max([1,2,3])"
   ]
  }
 ],
 "metadata": {
  "kernelspec": {
   "display_name": "Python 3",
   "language": "python",
   "name": "python3"
  },
  "language_info": {
   "codemirror_mode": {
    "name": "ipython",
    "version": 3
   },
   "file_extension": ".py",
   "mimetype": "text/x-python",
   "name": "python",
   "nbconvert_exporter": "python",
   "pygments_lexer": "ipython3",
   "version": "3.6.3"
  }
 },
 "nbformat": 4,
 "nbformat_minor": 2
}
